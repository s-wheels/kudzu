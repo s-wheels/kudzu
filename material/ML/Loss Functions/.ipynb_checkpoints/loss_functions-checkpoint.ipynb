{
 "cells": [
  {
   "cell_type": "markdown",
   "metadata": {},
   "source": [
    "# Loss Functions"
   ]
  },
  {
   "cell_type": "markdown",
   "metadata": {},
   "source": [
    "## Contents"
   ]
  },
  {
   "cell_type": "markdown",
   "metadata": {},
   "source": [
    "(Eventually listed in side bar)"
   ]
  },
  {
   "cell_type": "markdown",
   "metadata": {},
   "source": [
    "1. Loss Function Types\n",
    "    1. Regression Loss\n",
    "    2. Binary Classification Loss\n",
    "    3. Multi-class Classification Loss\n",
    "        1. Focal Loss\n"
   ]
  },
  {
   "cell_type": "markdown",
   "metadata": {},
   "source": [
    "## What and why?"
   ]
  },
  {
   "cell_type": "markdown",
   "metadata": {},
   "source": [
    "In a neural network, we cannot a priori determine the optimal weights for a network as there are too many unknowns. This means there is a high dimensionality space for the network that cannot be navigated theoretically."
   ]
  },
  {
   "cell_type": "markdown",
   "metadata": {},
   "source": [
    "Instead we cast the problem as an optimisation or search problem and utilise an algorithm to navigate the high dimensionality space of possible weights."
   ]
  },
  {
   "cell_type": "markdown",
   "metadata": {},
   "source": [
    "The model is typically trained with an optimisation algorithm that utilises a gradient, and the weights are updated through the network using the backpropagation algorithm. The optimiser attempts to reduce the loss by navigating down the gradient of the loss."
   ]
  },
  {
   "cell_type": "markdown",
   "metadata": {},
   "source": [
    "The objective function or criterion evaluates candidate solutions (a certain set of weights). In neural network training, we are generally seeking to minimise rather than maximise the objective function, and in this case we may refer to it as the *loss function* (synonymous with error/cost function). Loss functions are essential for the calculation of gradients, which are backpropagated throughout the rest of the network. "
   ]
  },
  {
   "cell_type": "markdown",
   "metadata": {},
   "source": [
    "#### Choice of Loss Function"
   ]
  },
  {
   "cell_type": "markdown",
   "metadata": {},
   "source": [
    "Choosing the right loss function is absolutely vital. The outputs of the loss function are the metric through which the model sees the world and the system it is trying to mimic, and tell it if it is improving or worsening. In that way the loss function serves as the \"reality check\" for the model. If this reality check mirrors reality poorly, then it follows that the trained model will also perform poorly when working on real data.\n",
    "\n",
    "It must faithfully distill all aspects, both good and bad, of the model down to a single scalar value which then allows candidate solutions to be ranked and compared. \n",
    "\n"
   ]
  },
  {
   "cell_type": "markdown",
   "metadata": {},
   "source": [
    "## Types of Loss Function"
   ]
  },
  {
   "cell_type": "markdown",
   "metadata": {},
   "source": [
    "Choosing a different loss function can significantly affect the final model that is produced. Here I will talk about the different types of loss function and when and where they may apply. This is far from an exhaustive list, but contains many of the most common and reapplicable loss functions. When you are considering your problem you must always carefully consider what model you want and what is the most useful model, which depending on your real-world problem, may not always be the model with the highest accuracy! Coming up with bespoke loss functions for problems can often yield a more useful model, and is something that should be considered."
   ]
  },
  {
   "cell_type": "markdown",
   "metadata": {},
   "source": [
    "### Cross-Entropy Loss"
   ]
  },
  {
   "cell_type": "markdown",
   "metadata": {},
   "source": [
    "#### Equation\n",
    "\n",
    "\\begin{equation*}\n",
    "CE(p_i) = \n",
    "\\begin{cases}\n",
    "\\log(p),  & \\text{if $y=1$} \\\\\n",
    "\\log(1-p), & \\text{otherwise}\n",
    "\\end{cases}\n",
    "\\end{equation*}\n",
    "\n",
    "Where $y$ which is the ground-truth and $ p \\in [0,1] $ is the probability $ y = 1 $"
   ]
  },
  {
   "cell_type": "markdown",
   "metadata": {},
   "source": [
    "Binary classification loss\n",
    "\n",
    "\\begin{equation*}\n",
    "BCE(p_i) = - \\frac{1}{N} \\Sigma^N_{i=1}  y_i \\log(p_i) + (1 - y_i) \\log(1-p_i)\n",
    "\\end{equation*}\n",
    "\n",
    "where $p_i = p(y_i)$"
   ]
  },
  {
   "cell_type": "markdown",
   "metadata": {},
   "source": []
  },
  {
   "cell_type": "markdown",
   "metadata": {},
   "source": [
    "### Focal Loss"
   ]
  },
  {
   "cell_type": "markdown",
   "metadata": {},
   "source": [
    "#### Explanation\n",
    "\n",
    "Focal Loss works by 'focusing' loss where it is needed to avoid overfitting in the model. It helps numerous easy examples from overwhelming the gradient. As can been seen in the figure below, loss for easily classified examples is reduced. Whilst when $ p_t \\rightarrow 0 $, $ FL \\rightarrow CE $ .\n",
    "\n",
    "<img src=\"imgs/focal_loss.png\" style=\"width:400px\"/>"
   ]
  },
  {
   "cell_type": "markdown",
   "metadata": {},
   "source": [
    "#### Equation\n",
    "Focusing on the binary case. \n",
    "\n",
    "Substituting for simplicity:\n",
    "\n",
    "\\begin{equation*}\n",
    "p_t = \n",
    "\\begin{cases}\n",
    "p,  & \\text{if $y=1$} \\\\\n",
    "1-p, & \\text{otherwise}\n",
    "\\end{cases}\n",
    "\\end{equation*}\n",
    "\n",
    "Introducing the modulating factor $ - ( 1- p_t)^\\gamma $ into Cross-Entropy Loss:\n",
    "\n",
    "\\begin{equation*}\n",
    "FL(p_t) = - ( 1- p_t)^\\gamma  \\log(p_t)\n",
    "\\end{equation*}\n",
    "\n",
    "When $ \\gamma = 0 $, $ FL = CE$ \n",
    "\n",
    "Incorporating a weighting factor, either set by inverse class frequency or hyperparameter tuning, $\\alpha$, where $\\alpha \\in [0,1]$. \n",
    "\n",
    "Examples for $ y=1 $ are weighted by $ \\alpha $ and $y=0$ by $1- \\alpha$. Subtituting $\\alpha_t$ for simplicity as above.\n",
    "\n",
    "\n",
    "\\begin{equation*}\n",
    "FL(p_t) = - \\alpha_t( 1- p_t)^\\gamma  \\log(p_t)\n",
    "\\end{equation*}"
   ]
  },
  {
   "cell_type": "markdown",
   "metadata": {},
   "source": [
    "#### Strengths and Use Cases\n",
    "\n",
    "* Dealing with unbalanced datasets by increasing loss on classes with few datapoints.\n",
    "\n",
    "* Helping models predict harder classes by increasing the loss on them and reducing loss where the model is already accurate. Avoiding excessive divergence from solutions to the harder classes by reducing the impact of optimisation to easier classes."
   ]
  },
  {
   "cell_type": "markdown",
   "metadata": {},
   "source": [
    "#### Weaknesses"
   ]
  },
  {
   "cell_type": "markdown",
   "metadata": {},
   "source": [
    "\\ref"
   ]
  },
  {
   "cell_type": "markdown",
   "metadata": {},
   "source": []
  },
  {
   "cell_type": "markdown",
   "metadata": {},
   "source": [
    "### Further Reading"
   ]
  },
  {
   "cell_type": "markdown",
   "metadata": {},
   "source": [
    "* Focal Loss for Dense Object Detection (https://arxiv.org/abs/1708.02002)"
   ]
  },
  {
   "cell_type": "code",
   "execution_count": null,
   "metadata": {},
   "outputs": [],
   "source": []
  }
 ],
 "metadata": {
  "kernelspec": {
   "display_name": "Python 3",
   "language": "python",
   "name": "python3"
  },
  "language_info": {
   "codemirror_mode": {
    "name": "ipython",
    "version": 3
   },
   "file_extension": ".py",
   "mimetype": "text/x-python",
   "name": "python",
   "nbconvert_exporter": "python",
   "pygments_lexer": "ipython3",
   "version": "3.7.6"
  }
 },
 "nbformat": 4,
 "nbformat_minor": 4
}
